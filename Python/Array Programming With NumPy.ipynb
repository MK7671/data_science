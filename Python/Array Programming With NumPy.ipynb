{
 "cells": [
  {
   "cell_type": "markdown",
   "metadata": {},
   "source": [
    "# Look Ma, No For-Loops: Array Programming With NumPy"
   ]
  },
  {
   "cell_type": "markdown",
   "metadata": {},
   "source": [
    "Source: https://realpython.com/numpy-array-programming/"
   ]
  },
  {
   "cell_type": "code",
   "execution_count": 236,
   "metadata": {},
   "outputs": [],
   "source": [
    "import numpy as np\n",
    "from IPython.display import Image"
   ]
  },
  {
   "cell_type": "code",
   "execution_count": 237,
   "metadata": {
    "scrolled": true
   },
   "outputs": [
    {
     "data": {
      "text/plain": [
       "array([[[ 0,  1,  2],\n",
       "        [ 3,  4,  5],\n",
       "        [ 6,  7,  8],\n",
       "        [ 9, 10, 11]],\n",
       "\n",
       "       [[12, 13, 14],\n",
       "        [15, 16, 17],\n",
       "        [18, 19, 20],\n",
       "        [21, 22, 23]],\n",
       "\n",
       "       [[24, 25, 26],\n",
       "        [27, 28, 29],\n",
       "        [30, 31, 32],\n",
       "        [33, 34, 35]]])"
      ]
     },
     "execution_count": 237,
     "metadata": {},
     "output_type": "execute_result"
    }
   ],
   "source": [
    "arr = np.arange(36).reshape(3,4,3)\n",
    "arr"
   ]
  },
  {
   "cell_type": "code",
   "execution_count": 238,
   "metadata": {},
   "outputs": [
    {
     "data": {
      "text/plain": [
       "(3, 4, 3)"
      ]
     },
     "execution_count": 238,
     "metadata": {},
     "output_type": "execute_result"
    }
   ],
   "source": [
    "arr.shape"
   ]
  },
  {
   "cell_type": "markdown",
   "metadata": {},
   "source": [
    "## What is Vectorization?\n",
    "\n",
    "Vectorization is a powerful ability within NumPy to express operations as occuring on entire arrays rather than their individual elements.\n",
    "\n",
    "In general, vectorized array operations will often be one or two (or more) orders of magnitude faster than their pure Python equivalents, with the biggest impact in any kind of numerical computations"
   ]
  },
  {
   "cell_type": "markdown",
   "metadata": {},
   "source": [
    "As an illustration, consider a 1-dimensional vector of True and False for which you want to count the number of “False to True” transitions in the sequence:"
   ]
  },
  {
   "cell_type": "code",
   "execution_count": 239,
   "metadata": {},
   "outputs": [
    {
     "data": {
      "text/plain": [
       "array([ True, False,  True, ...,  True, False,  True])"
      ]
     },
     "execution_count": 239,
     "metadata": {},
     "output_type": "execute_result"
    }
   ],
   "source": [
    "np.random.seed(444)\n",
    "x = np.random.choice([False, True], size=100000)\n",
    "x"
   ]
  },
  {
   "cell_type": "markdown",
   "metadata": {},
   "source": [
    "With a Python for-loop, one way to do this would be to evaluate, in pairs, the truth value of each element in the sequence along with the element that comes right after it:"
   ]
  },
  {
   "cell_type": "code",
   "execution_count": 240,
   "metadata": {},
   "outputs": [
    {
     "data": {
      "text/plain": [
       "24984"
      ]
     },
     "execution_count": 240,
     "metadata": {},
     "output_type": "execute_result"
    }
   ],
   "source": [
    "def count_transitions(x) -> int:\n",
    "    count = 0\n",
    "    for i, j in zip(x[:-1], x[1:]):\n",
    "        if j and not i:\n",
    "            count += 1\n",
    "    return count\n",
    "\n",
    "count_transitions(x)"
   ]
  },
  {
   "cell_type": "markdown",
   "metadata": {},
   "source": [
    "In vectorized form, there’s no explicit for-loop or direct reference to the individual elements:"
   ]
  },
  {
   "cell_type": "code",
   "execution_count": 241,
   "metadata": {},
   "outputs": [
    {
     "data": {
      "text/plain": [
       "24984"
      ]
     },
     "execution_count": 241,
     "metadata": {},
     "output_type": "execute_result"
    }
   ],
   "source": [
    "np.count_nonzero(x[:-1] < x[1:])"
   ]
  },
  {
   "cell_type": "markdown",
   "metadata": {},
   "source": [
    "How can I compare in terms of performance?"
   ]
  },
  {
   "cell_type": "code",
   "execution_count": 242,
   "metadata": {},
   "outputs": [
    {
     "name": "stdout",
     "output_type": "stream",
     "text": [
      "t1: 6.6232909000027576sec\n",
      "t2: 0.0918695000000298sec\n",
      "speed difference(t1/t2) 72.09x\n"
     ]
    }
   ],
   "source": [
    "from timeit import timeit\n",
    "setup = 'from __main__ import count_transitions, x; import numpy as np'\n",
    "num = 1000\n",
    "t1 = timeit('count_transitions(x)', setup=setup, number=num)\n",
    "t2 = timeit('np.count_nonzero(x[:-1] < x[1:])', setup=setup, number=num)\n",
    "print('t1: {t1}sec\\nt2: {t2}sec\\nspeed difference(t1/t2) {diff:0.2f}x'.format(t1=t1,t2=t2,diff=t1/t2))"
   ]
  },
  {
   "cell_type": "markdown",
   "metadata": {},
   "source": [
    "## Buy Low, Sell High\n",
    "\n",
    "e.g.: Given a stock’s price history as a sequence, and assuming that you are only allowed to make one purchase and one sale, what is the maximum profit that can be obtained? For example, given prices = (20, 18, 14, 17, 20, 21, 15), the max profit would be 7, from buying at 14 and selling at 21."
   ]
  },
  {
   "cell_type": "code",
   "execution_count": 243,
   "metadata": {},
   "outputs": [
    {
     "data": {
      "text/plain": [
       "7"
      ]
     },
     "execution_count": 243,
     "metadata": {},
     "output_type": "execute_result"
    }
   ],
   "source": [
    "# O(n) solution\n",
    "def profit(prices) -> int:\n",
    "#     if not isinstance(prices, list):\n",
    "#         raise TypeError\n",
    "    max_pf = 0\n",
    "    min_pf = prices[0]\n",
    "    for prc in prices[1:]:\n",
    "        min_pf = min(min_pf, prc)\n",
    "        max_pf = max(max_pf, prc - min_pf)\n",
    "    return max_pf\n",
    "\n",
    "prices = (20, 18, 14, 17, 20, 21, 15)\n",
    "profit(prices)"
   ]
  },
  {
   "cell_type": "markdown",
   "metadata": {},
   "source": [
    "How to do same thing in NumPy?"
   ]
  },
  {
   "cell_type": "code",
   "execution_count": 244,
   "metadata": {},
   "outputs": [],
   "source": [
    "prices = np.full(100, fill_value=np.nan)\n",
    "prices[[0,25,60,-1]] = [80., 30., 75., 50.]\n",
    "\n",
    "x = np.arange(len(prices))\n",
    "is_valid = ~np.isnan(prices)\n",
    "prices = np.interp(x=x, xp=x[is_valid], fp=prices[is_valid])\n",
    "prices += np.random.randn(len(prices)) * 2"
   ]
  },
  {
   "cell_type": "code",
   "execution_count": 245,
   "metadata": {},
   "outputs": [
    {
     "data": {
      "text/plain": [
       "[<matplotlib.lines.Line2D at 0x172b67d0>]"
      ]
     },
     "execution_count": 245,
     "metadata": {},
     "output_type": "execute_result"
    },
    {
     "data": {
      "image/png": "[encoded data removed]",
      "text/plain": [
       "<Figure size 576x432 with 1 Axes>"
      ]
     },
     "metadata": {},
     "output_type": "display_data"
    }
   ],
   "source": [
    "import matplotlib.pyplot as plt\n",
    "\n",
    "# Warning! This isn't a fully correct solution, but it works for now.\n",
    "# If the absolute min came after the absolute max, you'd have trouble.\n",
    "\n",
    "mn = np.argmin(prices)\n",
    "mx = mn + np.argmax(prices[mn:])\n",
    "kwargs = {'marker':'o','markersize': 12, 'linestyle': ''}\n",
    "\n",
    "plt.style.use('dark_background')\n",
    "fig, ax = plt.subplots(figsize=(8,6))\n",
    "ax.plot(prices)\n",
    "ax.set_title('Price History')\n",
    "ax.set_xlabel('Time')\n",
    "ax.set_ylabel('Price')\n",
    "ax.plot(mn, prices[mn], color='green', **kwargs)\n",
    "ax.plot(mx, prices[mx], color='red', **kwargs)"
   ]
  },
  {
   "cell_type": "markdown",
   "metadata": {},
   "source": [
    "cummin is customized function to find cumulative minimum of array-like datatype"
   ]
  },
  {
   "cell_type": "markdown",
   "metadata": {},
   "source": [
    "Extending the logic from the pure-Python example, you can find the difference between each price and a running minimum (element-wise), and then take the max of this sequence:"
   ]
  },
  {
   "cell_type": "code",
   "execution_count": 246,
   "metadata": {},
   "outputs": [
    {
     "name": "stdout",
     "output_type": "stream",
     "text": [
      "47.51581018762879\n",
      "True\n"
     ]
    }
   ],
   "source": [
    "# cummin: cumulative minimum: it returns array of cumulative minimum\n",
    "cummin = np.minimum.accumulate\n",
    "cummin\n",
    "def profit_with_numpy(prices):\n",
    "    \"\"\"Price minus cumulative minimum price, element-wise\"\"\"\n",
    "    prices = np.asarray(prices)\n",
    "    return np.max(prices - cummin(prices))\n",
    "\n",
    "print(profit_with_numpy(prices))\n",
    "print(np.allclose(profit_with_numpy(prices), profit(prices)))"
   ]
  },
  {
   "cell_type": "markdown",
   "metadata": {},
   "source": [
    "Compare the time difference b/w profit function v.s. profit_with_numpy"
   ]
  },
  {
   "cell_type": "code",
   "execution_count": 247,
   "metadata": {
    "scrolled": true
   },
   "outputs": [
    {
     "name": "stdout",
     "output_type": "stream",
     "text": [
      " pytime: 10.772085600001446sec\n",
      " nptime: 0.061911199998576194sec\n",
      " 173.99x\n"
     ]
    }
   ],
   "source": [
    "seq = np.random.randint(0, 100, size=100000)\n",
    "setup = 'from __main__ import profit_with_numpy, profit, seq;' ' import numpy as np'\n",
    "num = 250\n",
    "pytime = timeit('profit(seq)', setup=setup, number=num)\n",
    "nptime = timeit('profit_with_numpy(seq)', setup=setup, number=num)\n",
    "print(' pytime: {t1}sec\\n nptime: {t2}sec\\n {diff:0.2f}x'.format(t1=pytime, t2=nptime, diff=pytime/nptime))"
   ]
  },
  {
   "cell_type": "markdown",
   "metadata": {},
   "source": [
    "Above, treasting profit_with_numpy() as pseudocode (without considering NumPy's underlying mechanics), there are actually three passes through a sequence:\n",
    "\n",
    "- cummin(prices) has O(n) time complexity\n",
    "- prices - cummin(prices) is O(n)\n",
    "- max(...) is O(n)"
   ]
  },
  {
   "cell_type": "markdown",
   "metadata": {},
   "source": [
    "## Intermezzo: Understanding Axes Notation"
   ]
  },
  {
   "cell_type": "markdown",
   "metadata": {},
   "source": [
    "in NumPy, an axis refers to a single dimension of a multidimensional array:"
   ]
  },
  {
   "cell_type": "code",
   "execution_count": 248,
   "metadata": {},
   "outputs": [
    {
     "name": "stdout",
     "output_type": "stream",
     "text": [
      "[11 22 33]\n",
      "[ 6 60]\n"
     ]
    }
   ],
   "source": [
    "arr = np.array([[1,2,3],\n",
    "               [10,20,30]])\n",
    "print(arr.sum(axis=0))\n",
    "print(arr.sum(axis=1))"
   ]
  },
  {
   "cell_type": "markdown",
   "metadata": {},
   "source": [
    "#### axis  :  {'index' (0), 'columns' (1)}"
   ]
  },
  {
   "cell_type": "markdown",
   "metadata": {},
   "source": [
    "** summing an array for axis=0 collapses the rows of the array with a column-wise computation. **\n",
    "\n",
    "** summing an array for axis=1 collapses the columns of the array with a row-wise computation **"
   ]
  },
  {
   "cell_type": "markdown",
   "metadata": {},
   "source": [
    "## Boradcasting\n"
   ]
  },
  {
   "cell_type": "markdown",
   "metadata": {},
   "source": [
    "Broadcasting is another important NumPy abstraction. You’ve already seen that operations between two NumPy arrays (of equal size) operate element-wise:"
   ]
  },
  {
   "cell_type": "code",
   "execution_count": 249,
   "metadata": {},
   "outputs": [
    {
     "data": {
      "text/plain": [
       "array([0.15, 0.5 , 3.5 ])"
      ]
     },
     "execution_count": 249,
     "metadata": {},
     "output_type": "execute_result"
    }
   ],
   "source": [
    "a = np.array([1.5, 2.5, 3.5])\n",
    "b = np.array([10., 5., 1.])\n",
    "a/b"
   ]
  },
  {
   "cell_type": "markdown",
   "metadata": {},
   "source": [
    "What about unequally sized array? This is where broadcasting comes in:\n",
    "\n",
    "the term **broadcasting** describes how NumPy treats arrays with different shape during arithmetic operations. Subject to certain constraints, the smaller array is \"broadcast\" across the larger array so that they have compatible shapes. Broadcasting provides a means of vectorizing array operations so that looping occurs in C instead of Python"
   ]
  },
  {
   "cell_type": "markdown",
   "metadata": {},
   "source": [
    "The way in which broadcasting is implemented can become tedious when working with more than two arrays. However, if there are just **two arrays**, then their ability to be broadcasted can be described with two short rules:\n",
    "\n",
    "When operating on two arrays, NumPy compares their **shapes element-wise**. It starts with the **trailing dimensions and works its way forward**. Two dimensions are compatible when:\n",
    "\n",
    "- they are equal, or\n",
    "- one of them is 1"
   ]
  },
  {
   "cell_type": "markdown",
   "metadata": {},
   "source": [
    "Let’s take a case where we want to subtract each column-wise mean of an array, element-wise:"
   ]
  },
  {
   "cell_type": "code",
   "execution_count": 250,
   "metadata": {},
   "outputs": [
    {
     "data": {
      "text/plain": [
       "array([[ 2.2261252 , 17.68916753],\n",
       "       [ 1.91752374, 18.55904714],\n",
       "       [ 2.88271815, 22.2076747 ]])"
      ]
     },
     "execution_count": 250,
     "metadata": {},
     "output_type": "execute_result"
    }
   ],
   "source": [
    "sample = np.random.normal(loc=[2., 20.], scale=[1., 3.5], size=(3,2))\n",
    "sample"
   ]
  },
  {
   "cell_type": "markdown",
   "metadata": {},
   "source": [
    "In statistical jargon, sample consists of two samples (the columns) drawn independently from two populations with means of 2 and 20, respectively. The column-wise means should approximate the population means (albeit roughly, because the sample is small):"
   ]
  },
  {
   "cell_type": "code",
   "execution_count": 251,
   "metadata": {},
   "outputs": [
    {
     "data": {
      "text/plain": [
       "array([ 2.34212236, 19.48529646])"
      ]
     },
     "execution_count": 251,
     "metadata": {},
     "output_type": "execute_result"
    }
   ],
   "source": [
    "mu = sample.mean(axis=0)\n",
    "mu"
   ]
  },
  {
   "cell_type": "code",
   "execution_count": 252,
   "metadata": {},
   "outputs": [
    {
     "name": "stdout",
     "output_type": "stream",
     "text": [
      "sample: (3, 2) | means: (2,)\n"
     ]
    }
   ],
   "source": [
    "print('sample:', sample.shape, '| means:', mu.shape)"
   ]
  },
  {
   "cell_type": "code",
   "execution_count": 253,
   "metadata": {},
   "outputs": [
    {
     "data": {
      "text/plain": [
       "array([[-0.11599716, -1.79612893],\n",
       "       [-0.42459862, -0.92624932],\n",
       "       [ 0.54059578,  2.72237825]])"
      ]
     },
     "execution_count": 253,
     "metadata": {},
     "output_type": "execute_result"
    }
   ],
   "source": [
    "sample - mu"
   ]
  },
  {
   "cell_type": "markdown",
   "metadata": {},
   "source": [
    "Here’s an illustration of subtracting out **column-wise means**, where a smaller array is “stretched” so that it is subtracted from each row of the larger array:"
   ]
  },
  {
   "cell_type": "code",
   "execution_count": 254,
   "metadata": {},
   "outputs": [
    {
     "data": {
      "image/jpeg": "[encoded data removed]",
      "text/plain": [
       "<IPython.core.display.Image object>"
      ]
     },
     "execution_count": 254,
     "metadata": {},
     "output_type": "execute_result"
    }
   ],
   "source": [
    "Image('broadcasting.jpg')"
   ]
  },
  {
   "cell_type": "markdown",
   "metadata": {},
   "source": [
    "This extends to standardizing each column as well, making each cell a z-score relative to its respective column:"
   ]
  },
  {
   "cell_type": "code",
   "execution_count": 255,
   "metadata": {},
   "outputs": [
    {
     "data": {
      "text/plain": [
       "array([[-0.28820226, -0.91756501],\n",
       "       [-1.05494207, -0.47318093],\n",
       "       [ 1.34314433,  1.39074594]])"
      ]
     },
     "execution_count": 255,
     "metadata": {},
     "output_type": "execute_result"
    }
   ],
   "source": [
    "(sample - sample.mean(axis=0)) / sample.std(axis=0)"
   ]
  },
  {
   "cell_type": "markdown",
   "metadata": {},
   "source": [
    "However, what if you want to subtract out, for some reason, the *row-wise minimums*? You’ll run into a bit of trouble:"
   ]
  },
  {
   "cell_type": "code",
   "execution_count": 256,
   "metadata": {},
   "outputs": [
    {
     "data": {
      "text/plain": [
       "array([2.2261252 , 1.91752374, 2.88271815])"
      ]
     },
     "execution_count": 256,
     "metadata": {},
     "output_type": "execute_result"
    }
   ],
   "source": [
    "sample.min(axis=1)"
   ]
  },
  {
   "cell_type": "code",
   "execution_count": 257,
   "metadata": {},
   "outputs": [
    {
     "data": {
      "text/plain": [
       "(3,)"
      ]
     },
     "execution_count": 257,
     "metadata": {},
     "output_type": "execute_result"
    }
   ],
   "source": [
    "sample.min(axis=1).shape"
   ]
  },
  {
   "cell_type": "code",
   "execution_count": 258,
   "metadata": {},
   "outputs": [
    {
     "ename": "ValueError",
     "evalue": "operands could not be broadcast together with shapes (3,2) (3,) ",
     "output_type": "error",
     "traceback": [
      "\u001b[1;31m---------------------------------------------------------------------------\u001b[0m",
      "\u001b[1;31mValueError\u001b[0m                                Traceback (most recent call last)",
      "\u001b[1;32m<ipython-input-258-65db6573eddd>\u001b[0m in \u001b[0;36m<module>\u001b[1;34m\u001b[0m\n\u001b[1;32m----> 1\u001b[1;33m \u001b[0msample\u001b[0m \u001b[1;33m-\u001b[0m \u001b[0msample\u001b[0m\u001b[1;33m.\u001b[0m\u001b[0mmin\u001b[0m\u001b[1;33m(\u001b[0m\u001b[0maxis\u001b[0m\u001b[1;33m=\u001b[0m\u001b[1;36m1\u001b[0m\u001b[1;33m)\u001b[0m\u001b[1;33m\u001b[0m\u001b[1;33m\u001b[0m\u001b[0m\n\u001b[0m",
      "\u001b[1;31mValueError\u001b[0m: operands could not be broadcast together with shapes (3,2) (3,) "
     ]
    }
   ],
   "source": [
    "sample - sample.min(axis=1)"
   ]
  },
  {
   "cell_type": "markdown",
   "metadata": {},
   "source": [
    "The problem here is that the smaller array, in its current form, cannot be “stretched” to be shape-compatible with sample. You actually need to expand its dimensionality to meet the broadcasting rules above:"
   ]
  },
  {
   "cell_type": "code",
   "execution_count": 259,
   "metadata": {},
   "outputs": [
    {
     "data": {
      "text/plain": [
       "array([[2.2261252 ],\n",
       "       [1.91752374],\n",
       "       [2.88271815]])"
      ]
     },
     "execution_count": 259,
     "metadata": {},
     "output_type": "execute_result"
    }
   ],
   "source": [
    "sample.min(axis=1)[:,None]"
   ]
  },
  {
   "cell_type": "code",
   "execution_count": 260,
   "metadata": {},
   "outputs": [
    {
     "data": {
      "text/plain": [
       "(3, 1)"
      ]
     },
     "execution_count": 260,
     "metadata": {},
     "output_type": "execute_result"
    }
   ],
   "source": [
    "sample.min(axis=1)[:,None].shape"
   ]
  },
  {
   "cell_type": "code",
   "execution_count": 261,
   "metadata": {},
   "outputs": [
    {
     "data": {
      "text/plain": [
       "array([[ 0.        , 15.46304233],\n",
       "       [ 0.        , 16.6415234 ],\n",
       "       [ 0.        , 19.32495656]])"
      ]
     },
     "execution_count": 261,
     "metadata": {},
     "output_type": "execute_result"
    }
   ],
   "source": [
    "sample - sample.min(axis=1)[:, None]"
   ]
  },
  {
   "cell_type": "markdown",
   "metadata": {},
   "source": [
    "Note: **[:, None]** is a means by which to expand the dimensionality of an array, to create an axis of length one. np.newaxis is an alias for None"
   ]
  },
  {
   "cell_type": "code",
   "execution_count": 262,
   "metadata": {},
   "outputs": [
    {
     "data": {
      "text/plain": [
       "(3,)"
      ]
     },
     "execution_count": 262,
     "metadata": {},
     "output_type": "execute_result"
    }
   ],
   "source": [
    "a = sample.min(axis=1)\n",
    "a.shape"
   ]
  },
  {
   "cell_type": "code",
   "execution_count": 263,
   "metadata": {},
   "outputs": [
    {
     "data": {
      "text/plain": [
       "(3, 1)"
      ]
     },
     "execution_count": 263,
     "metadata": {},
     "output_type": "execute_result"
    }
   ],
   "source": [
    "a[:, None].shape"
   ]
  },
  {
   "cell_type": "code",
   "execution_count": 276,
   "metadata": {},
   "outputs": [
    {
     "name": "stdout",
     "output_type": "stream",
     "text": [
      "[[ 0.        ]\n",
      " [ 0.84147098]\n",
      " [ 0.90929743]\n",
      " [ 0.14112001]\n",
      " [-0.7568025 ]\n",
      " [-0.95892427]\n",
      " [-0.2794155 ]\n",
      " [ 0.6569866 ]\n",
      " [ 0.98935825]\n",
      " [ 0.41211849]]\n",
      "[[ 0.19708858 -1.26525903 -0.26600707 -1.09340275 -0.21704879  0.80720874\n",
      "   0.58302912  0.05352656 -0.32479146  0.08947613]]\n",
      "[[10.]\n",
      " [10.]\n",
      " [10.]\n",
      " [10.]\n",
      " [10.]\n",
      " [10.]\n",
      " [10.]\n",
      " [10.]\n",
      " [10.]\n",
      " [10.]]\n"
     ]
    }
   ],
   "source": [
    "a = np.sin(np.arange(10)[:, None])\n",
    "print(a)\n",
    "b = np.random.randn(1,10)\n",
    "print(b)\n",
    "c = np.full_like(a, 10)\n",
    "print(c)\n",
    "d = 8"
   ]
  },
  {
   "cell_type": "code",
   "execution_count": 267,
   "metadata": {},
   "outputs": [
    {
     "name": "stdout",
     "output_type": "stream",
     "text": [
      "(10, 1)\n",
      "(1, 10)\n",
      "(10, 1)\n",
      "(1,)\n"
     ]
    }
   ],
   "source": [
    "arrays = [np.atleast_1d(arr) for arr in (a,b,c,d)]\n",
    "for arr in arrays:\n",
    "    print(arr.shape)"
   ]
  },
  {
   "cell_type": "markdown",
   "metadata": {},
   "source": [
    "There are some significantly more complex cases, too. Here’s a more rigorous definition of when any arbitrary number of arrays of any shape can be broadcast together:\n",
    "\n",
    "A set of arrays is called “broadcastable” to the same shape if the following rules produce a valid result, meaning one of the following is true:\n",
    "\n",
    "1. The arrays all have exactly the same shape.\n",
    "\n",
    "2. The arrays all have the same number of dimensions, and the length of each dimension is either a common length or 1.\n",
    "\n",
    "3. The arrays that have too few dimensions can have their shapes prepended with a dimension of length 1 to satisfy property #2."
   ]
  },
  {
   "cell_type": "markdown",
   "metadata": {},
   "source": [
    "Check criterion #1"
   ]
  },
  {
   "cell_type": "code",
   "execution_count": 268,
   "metadata": {},
   "outputs": [
    {
     "data": {
      "text/plain": [
       "False"
      ]
     },
     "execution_count": 268,
     "metadata": {},
     "output_type": "execute_result"
    }
   ],
   "source": [
    "len(set(arr.shape for arr in arrays)) == 1"
   ]
  },
  {
   "cell_type": "markdown",
   "metadata": {},
   "source": [
    "Check criterion #2"
   ]
  },
  {
   "cell_type": "code",
   "execution_count": 269,
   "metadata": {},
   "outputs": [
    {
     "data": {
      "text/plain": [
       "False"
      ]
     },
     "execution_count": 269,
     "metadata": {},
     "output_type": "execute_result"
    }
   ],
   "source": [
    "len (set((arr.ndim) for arr in arrays)) == 1"
   ]
  },
  {
   "cell_type": "markdown",
   "metadata": {},
   "source": [
    "Final criterion is a bit more involved:\n",
    "\n",
    "**The arrays that have too few dimensions can have their shapes prepended with a dimension of length 1 to satisfy property #2.**"
   ]
  },
  {
   "cell_type": "code",
   "execution_count": 270,
   "metadata": {},
   "outputs": [
    {
     "data": {
      "text/plain": [
       "array([[10,  1],\n",
       "       [ 1, 10],\n",
       "       [10,  1],\n",
       "       [ 1,  1]])"
      ]
     },
     "execution_count": 270,
     "metadata": {},
     "output_type": "execute_result"
    }
   ],
   "source": [
    "maxdim = max(arr.ndim for arr in arrays)\n",
    "shapes = np.array([(1,) * (maxdim - arr.ndim) + arr.shape for arr in arrays])\n",
    "shapes"
   ]
  },
  {
   "cell_type": "markdown",
   "metadata": {},
   "source": [
    "Finally, you need to test that the length of each dimension is either (drawn from) a common length, or 1. A trick for doing this is to first mask the array of “shape-tuples” in places where it equals one. Then, you can check if the peak-to-peak (np.ptp()) column-wise differences are all zero:"
   ]
  },
  {
   "cell_type": "code",
   "execution_count": 271,
   "metadata": {},
   "outputs": [
    {
     "data": {
      "text/plain": [
       "True"
      ]
     },
     "execution_count": 271,
     "metadata": {},
     "output_type": "execute_result"
    }
   ],
   "source": [
    "masked = np.ma.masked_where(shapes == 1, shapes)\n",
    "np.all(masked.ptp(axis=0) == 0) # ptp: max - min"
   ]
  },
  {
   "cell_type": "code",
   "execution_count": 272,
   "metadata": {},
   "outputs": [
    {
     "data": {
      "text/plain": [
       "True"
      ]
     },
     "execution_count": 272,
     "metadata": {},
     "output_type": "execute_result"
    }
   ],
   "source": [
    "# Encapsulated in a single function, this logic looks like this:\n",
    "def can_broadcast(*arrays) -> bool:\n",
    "    arrays = [np.atleast_1d(arr) for arr in arrays]\n",
    "    if len(set(arr.shape for arr in arrays)) == 1:\n",
    "        return True\n",
    "    elif len(set((arr.ndim) for arr in arrays)) == 1:\n",
    "        return True\n",
    "    maxdim = max(arr.ndim for arr in arrays)\n",
    "    shapes = np.array([(1,) * (maxdim - arr.ndim) + arr.shape for arr in arrays])\n",
    "    masked = np.ma.masked_where(shapes == 1, shapes)\n",
    "    return np.all(masked.ptp(axis=0) == 0)\n",
    "\n",
    "can_broadcast(a,b,c,d)"
   ]
  },
  {
   "cell_type": "markdown",
   "metadata": {},
   "source": [
    "luckily, you can take a shortcut and use np.broadcast() for this sanity-check, although it’s not explicitly designed for this purpose:"
   ]
  },
  {
   "cell_type": "code",
   "execution_count": 273,
   "metadata": {},
   "outputs": [
    {
     "data": {
      "text/plain": [
       "True"
      ]
     },
     "execution_count": 273,
     "metadata": {},
     "output_type": "execute_result"
    }
   ],
   "source": [
    "def can_broadcast(*arrays) -> bool:\n",
    "    try:\n",
    "        np.broadcast(*arrays)\n",
    "        return True\n",
    "    except ValueError:\n",
    "        return False\n",
    "\n",
    "can_broadcast(a,b,c,d)"
   ]
  }
 ],
 "metadata": {
  "kernelspec": {
   "display_name": "Python 3",
   "language": "python",
   "name": "python3"
  },
  "language_info": {
   "codemirror_mode": {
    "name": "ipython",
    "version": 3
   },
   "file_extension": ".py",
   "mimetype": "text/x-python",
   "name": "python",
   "nbconvert_exporter": "python",
   "pygments_lexer": "ipython3",
   "version": "3.7.1"
  }
 },
 "nbformat": 4,
 "nbformat_minor": 2
}
